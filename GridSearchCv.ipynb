{
  "nbformat": 4,
  "nbformat_minor": 0,
  "metadata": {
    "colab": {
      "provenance": [],
      "authorship_tag": "ABX9TyM5OqOeuGBJdnQoQM8LJgbM",
      "include_colab_link": true
    },
    "kernelspec": {
      "name": "python3",
      "display_name": "Python 3"
    },
    "language_info": {
      "name": "python"
    }
  },
  "cells": [
    {
      "cell_type": "markdown",
      "metadata": {
        "id": "view-in-github",
        "colab_type": "text"
      },
      "source": [
        "<a href=\"https://colab.research.google.com/github/hyunil-cho/ml_practice/blob/main/GridSearchCv.ipynb\" target=\"_parent\"><img src=\"https://colab.research.google.com/assets/colab-badge.svg\" alt=\"Open In Colab\"/></a>"
      ]
    },
    {
      "cell_type": "code",
      "execution_count": null,
      "metadata": {
        "id": "gQ2LSsFlt2v_"
      },
      "outputs": [],
      "source": [
        "from sklearn.datasets import load_iris\n",
        "from sklearn.tree import DecisionTreeClassifier\n",
        "from sklearn.model_selection import train_test_split\n",
        "import pandas as pd\n",
        "from sklearn.model_selection import GridSearchCV"
      ]
    },
    {
      "cell_type": "code",
      "source": [
        "iris_data = load_iris()\n",
        "X_train,x_test,y_train,y_test = train_test_split(iris_data.data,iris_data.target,test_size=0.2,random_state=121)\n",
        "\n",
        "dtree = DecisionTreeClassifier()\n",
        "\n",
        "prams = {\n",
        "    \"max_depth\" : [1,2,3],\n",
        "    \"min_samples_split\" : [2,3]\n",
        "}\n"
      ],
      "metadata": {
        "id": "5cKlKjF-uhS-"
      },
      "execution_count": null,
      "outputs": []
    },
    {
      "cell_type": "code",
      "source": [
        "\n",
        "grid_dtree = GridSearchCV(dtree,param_grid=prams,cv=3,refit=True)\n",
        "grid_dtree.fit(X_train,y_train)\n",
        "\n",
        "score_df = pd.DataFrame(grid_dtree.cv_results_)\n",
        "grid_dtree.best_params_"
      ],
      "metadata": {
        "colab": {
          "base_uri": "https://localhost:8080/"
        },
        "id": "4QbNvoNUutU5",
        "outputId": "bfb08908-0095-4ce3-dd87-b46c92c1aa73"
      },
      "execution_count": null,
      "outputs": [
        {
          "output_type": "execute_result",
          "data": {
            "text/plain": [
              "{'max_depth': 3, 'min_samples_split': 2}"
            ]
          },
          "metadata": {},
          "execution_count": 24
        }
      ]
    },
    {
      "cell_type": "code",
      "source": [
        "from math import e\n",
        "from sklearn.preprocessing import LabelEncoder\n",
        "\n",
        "items = ['냉장고', 'tv', '에어콘']\n",
        "encoder = LabelEncoder()\n",
        "encoder.fit(items)\n",
        "labels = encoder.transform(items)\n",
        "\n",
        "\n",
        "print(labels, encoder.classes_)\n",
        "\n",
        "print(encoder.inverse_transform([1,1,1,1,1,1,0,0]))\n",
        "\n",
        "# LabelEncoder의 경우, 선형회귀에서는 사용 X\n"
      ],
      "metadata": {
        "colab": {
          "base_uri": "https://localhost:8080/"
        },
        "id": "q7dwx_vMvImZ",
        "outputId": "add4f5c4-2f02-48ca-ce9f-23d9d74efef8"
      },
      "execution_count": null,
      "outputs": [
        {
          "output_type": "stream",
          "name": "stdout",
          "text": [
            "[1 0 2] ['tv' '냉장고' '에어콘']\n",
            "['냉장고' '냉장고' '냉장고' '냉장고' '냉장고' '냉장고' 'tv' 'tv']\n"
          ]
        }
      ]
    },
    {
      "cell_type": "markdown",
      "source": [
        "#One-hot encoding"
      ],
      "metadata": {
        "id": "HjMcBMeE0RvE"
      }
    },
    {
      "cell_type": "code",
      "source": [
        "from sklearn.preprocessing import OneHotEncoder\n",
        "import numpy as np\n",
        "\n",
        "items = ['냉장고', 'tv', '에어콘']\n",
        "items = np.array(items).reshape(-1,1)\n",
        "\n",
        "encoder = OneHotEncoder()\n",
        "encoder.fit(items)\n",
        "labels = encoder.transform(items)\n",
        "labels = labels.toarray()\n",
        "\n",
        "items_pd = pd.DataFrame(items)\n",
        "one_hot = pd.get_dummies(items_pd).astype(int)\n",
        "\n",
        "print(labels)\n",
        "print()\n",
        "print(one_hot)"
      ],
      "metadata": {
        "id": "Ogy8ggPnxDYB",
        "colab": {
          "base_uri": "https://localhost:8080/"
        },
        "outputId": "eaaceb86-0327-4de1-972a-16f5dc298444"
      },
      "execution_count": 47,
      "outputs": [
        {
          "output_type": "stream",
          "name": "stdout",
          "text": [
            "[[0. 1. 0.]\n",
            " [1. 0. 0.]\n",
            " [0. 0. 1.]]\n",
            "\n",
            "   0_tv  0_냉장고  0_에어콘\n",
            "0     0      1      0\n",
            "1     1      0      0\n",
            "2     0      0      1\n"
          ]
        }
      ]
    },
    {
      "cell_type": "markdown",
      "source": [
        "#피처 스케일링 & 정규화\n",
        "\n",
        "## 피처스케일링이란?\n",
        "---\n",
        "서로 다른 변수의 값 범위를 일정한 수준으로 맞추는 작업을 의미\n",
        "\n",
        "## 표준화\n",
        "---\n",
        "평균이 0, 분산이 1인 가우시안 정규 분포를 가진 값으로 변환 작업\n",
        "\n",
        "## 정규화\n",
        "---\n",
        "서로 다른 피처의 크기를 통일하기 위해 크기를 변환하는 작업.\n",
        "개별 데이터의 크기를 모두 똑같은 단위로 변경하는 작업\n",
        "\n",
        "## 주의\n",
        "---\n",
        "피처 스케일링 진행 시, 학습 데이터로 scaler를 학습했다면, 동일한 scaler로 테스트 데이터에 적용해야 하며, 각각에 대하여 fit을 통해 학습시켜선 안된다."
      ],
      "metadata": {
        "id": "QPlRIwjj0UPJ"
      }
    },
    {
      "cell_type": "code",
      "source": [
        "  from sklearn.datasets import load_iris\n",
        "import pandas as pd\n",
        "from sklearn.preprocessing import StandardScaler\n",
        "\n",
        "scaler = StandardScaler()\n",
        "\n",
        "iris = load_iris()\n",
        "iris_data = iris.data\n",
        "iris_df = pd.DataFrame(data=iris_data,columns=iris.feature_names)\n",
        "\n",
        "scaler.fit(iris_df)\n",
        "iris_scaled = scaler.transform(iris_df)\n",
        "iris_df_scaled = pd.DataFrame(data=iris_scaled,columns=iris.feature_names)\n",
        "\n",
        "iris_df_scaled.mean()"
      ],
      "metadata": {
        "colab": {
          "base_uri": "https://localhost:8080/",
          "height": 210
        },
        "id": "2gV15zBCzG-L",
        "outputId": "dee5d5cb-b65c-47e1-ca05-d7104dd0ba2a"
      },
      "execution_count": 59,
      "outputs": [
        {
          "output_type": "execute_result",
          "data": {
            "text/plain": [
              "sepal length (cm)   -1.690315e-15\n",
              "sepal width (cm)    -1.842970e-15\n",
              "petal length (cm)   -1.698641e-15\n",
              "petal width (cm)    -1.409243e-15\n",
              "dtype: float64"
            ],
            "text/html": [
              "<div>\n",
              "<style scoped>\n",
              "    .dataframe tbody tr th:only-of-type {\n",
              "        vertical-align: middle;\n",
              "    }\n",
              "\n",
              "    .dataframe tbody tr th {\n",
              "        vertical-align: top;\n",
              "    }\n",
              "\n",
              "    .dataframe thead th {\n",
              "        text-align: right;\n",
              "    }\n",
              "</style>\n",
              "<table border=\"1\" class=\"dataframe\">\n",
              "  <thead>\n",
              "    <tr style=\"text-align: right;\">\n",
              "      <th></th>\n",
              "      <th>0</th>\n",
              "    </tr>\n",
              "  </thead>\n",
              "  <tbody>\n",
              "    <tr>\n",
              "      <th>sepal length (cm)</th>\n",
              "      <td>-1.690315e-15</td>\n",
              "    </tr>\n",
              "    <tr>\n",
              "      <th>sepal width (cm)</th>\n",
              "      <td>-1.842970e-15</td>\n",
              "    </tr>\n",
              "    <tr>\n",
              "      <th>petal length (cm)</th>\n",
              "      <td>-1.698641e-15</td>\n",
              "    </tr>\n",
              "    <tr>\n",
              "      <th>petal width (cm)</th>\n",
              "      <td>-1.409243e-15</td>\n",
              "    </tr>\n",
              "  </tbody>\n",
              "</table>\n",
              "</div><br><label><b>dtype:</b> float64</label>"
            ]
          },
          "metadata": {},
          "execution_count": 59
        }
      ]
    },
    {
      "cell_type": "code",
      "source": [],
      "metadata": {
        "id": "HXGg92qt1nyy"
      },
      "execution_count": null,
      "outputs": []
    }
  ]
}