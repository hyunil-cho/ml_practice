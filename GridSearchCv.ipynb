{
  "nbformat": 4,
  "nbformat_minor": 0,
  "metadata": {
    "colab": {
      "provenance": [],
      "authorship_tag": "ABX9TyO08P8h3r3QcJcMWaWohyl2",
      "include_colab_link": true
    },
    "kernelspec": {
      "name": "python3",
      "display_name": "Python 3"
    },
    "language_info": {
      "name": "python"
    }
  },
  "cells": [
    {
      "cell_type": "markdown",
      "metadata": {
        "id": "view-in-github",
        "colab_type": "text"
      },
      "source": [
        "<a href=\"https://colab.research.google.com/github/hyunil-cho/ml_practice/blob/main/GridSearchCv.ipynb\" target=\"_parent\"><img src=\"https://colab.research.google.com/assets/colab-badge.svg\" alt=\"Open In Colab\"/></a>"
      ]
    },
    {
      "cell_type": "code",
      "execution_count": null,
      "metadata": {
        "id": "gQ2LSsFlt2v_"
      },
      "outputs": [],
      "source": [
        "from sklearn.datasets import load_iris\n",
        "from sklearn.tree import DecisionTreeClassifier\n",
        "from sklearn.model_selection import train_test_split\n",
        "import pandas as pd\n",
        "from sklearn.model_selection import GridSearchCV"
      ]
    },
    {
      "cell_type": "code",
      "source": [
        "iris_data = load_iris()\n",
        "X_train,x_test,y_train,y_test = train_test_split(iris_data.data,iris_data.target,test_size=0.2,random_state=121)\n",
        "\n",
        "dtree = DecisionTreeClassifier()\n",
        "\n",
        "prams = {\n",
        "    \"max_depth\" : [1,2,3],\n",
        "    \"min_samples_split\" : [2,3]\n",
        "}\n"
      ],
      "metadata": {
        "id": "5cKlKjF-uhS-"
      },
      "execution_count": null,
      "outputs": []
    },
    {
      "cell_type": "code",
      "source": [
        "\n",
        "grid_dtree = GridSearchCV(dtree,param_grid=prams,cv=3,refit=True)\n",
        "grid_dtree.fit(X_train,y_train)\n",
        "\n",
        "score_df = pd.DataFrame(grid_dtree.cv_results_)\n",
        "grid_dtree.best_params_"
      ],
      "metadata": {
        "colab": {
          "base_uri": "https://localhost:8080/"
        },
        "id": "4QbNvoNUutU5",
        "outputId": "bfb08908-0095-4ce3-dd87-b46c92c1aa73"
      },
      "execution_count": null,
      "outputs": [
        {
          "output_type": "execute_result",
          "data": {
            "text/plain": [
              "{'max_depth': 3, 'min_samples_split': 2}"
            ]
          },
          "metadata": {},
          "execution_count": 24
        }
      ]
    },
    {
      "cell_type": "code",
      "source": [
        "from math import e\n",
        "from sklearn.preprocessing import LabelEncoder\n",
        "\n",
        "items = ['냉장고', 'tv', '에어콘']\n",
        "encoder = LabelEncoder()\n",
        "encoder.fit(items)\n",
        "labels = encoder.transform(items)\n",
        "\n",
        "\n",
        "print(labels, encoder.classes_)\n",
        "\n",
        "print(encoder.inverse_transform([1,1,1,1,1,1,0,0]))\n",
        "\n",
        "# LabelEncoder의 경우, 선형회귀에서는 사용 X\n"
      ],
      "metadata": {
        "colab": {
          "base_uri": "https://localhost:8080/"
        },
        "id": "q7dwx_vMvImZ",
        "outputId": "add4f5c4-2f02-48ca-ce9f-23d9d74efef8"
      },
      "execution_count": null,
      "outputs": [
        {
          "output_type": "stream",
          "name": "stdout",
          "text": [
            "[1 0 2] ['tv' '냉장고' '에어콘']\n",
            "['냉장고' '냉장고' '냉장고' '냉장고' '냉장고' '냉장고' 'tv' 'tv']\n"
          ]
        }
      ]
    },
    {
      "cell_type": "code",
      "source": [],
      "metadata": {
        "id": "Ogy8ggPnxDYB"
      },
      "execution_count": null,
      "outputs": []
    }
  ]
}