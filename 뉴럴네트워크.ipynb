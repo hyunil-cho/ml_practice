{
  "nbformat": 4,
  "nbformat_minor": 0,
  "metadata": {
    "colab": {
      "provenance": [],
      "authorship_tag": "ABX9TyN8nMR5JuMjuCUvd0sg5Vly",
      "include_colab_link": true
    },
    "kernelspec": {
      "name": "python3",
      "display_name": "Python 3"
    },
    "language_info": {
      "name": "python"
    }
  },
  "cells": [
    {
      "cell_type": "markdown",
      "metadata": {
        "id": "view-in-github",
        "colab_type": "text"
      },
      "source": [
        "<a href=\"https://colab.research.google.com/github/hyunil-cho/ml_practice/blob/main/%EB%89%B4%EB%9F%B4%EB%84%A4%ED%8A%B8%EC%9B%8C%ED%81%AC.ipynb\" target=\"_parent\"><img src=\"https://colab.research.google.com/assets/colab-badge.svg\" alt=\"Open In Colab\"/></a>"
      ]
    },
    {
      "cell_type": "markdown",
      "source": [
        "# 뉴럴 네트워크\n",
        "---\n",
        "입력 계층과, 복수 개의 히든 레이어, 그리고 출력 레이어로 이루어진 네트워크로\n",
        "입력 각 히든 레이어 및 출력 레이어에는, 가중치와 편향이 존재한다.\n",
        "\n",
        "입력으로 들어온 데이터와 각 계층의 레이어를 행렬곱하고, 다음 레이어로 넘기는 작업을 반복하여, 최종적으로 반환된 결과와, 정답을 비교하고, 차이를 loss function으로 계산하여, 역전파, 가중치를 변경하는 작업을 반복한다."
      ],
      "metadata": {
        "id": "U8lG0qs7cFhh"
      }
    },
    {
      "cell_type": "code",
      "execution_count": null,
      "metadata": {
        "id": "IsQi8N--b4bU"
      },
      "outputs": [],
      "source": []
    }
  ]
}